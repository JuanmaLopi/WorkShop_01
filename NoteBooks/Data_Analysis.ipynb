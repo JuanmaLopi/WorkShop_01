{
 "cells": [
  {
   "cell_type": "markdown",
   "metadata": {},
   "source": [
    "Lo primero que vamos a hacer para realizar un buen analisis, es importar las librerias de python necesarias para permitirnos hacer esto, en este caso usaremos pandas para primero convertir la base de datos en un Dataframe y así poder realizar un buen analisis. Además de que importaremos la libreria de MatPlotLib, la cual es la que nos permitira realizar todos las visualizaciones de los datos"
   ]
  },
  {
   "cell_type": "code",
   "execution_count": 2,
   "metadata": {},
   "outputs": [],
   "source": [
    "import pandas as pd\n",
    "import matplotlib as plt"
   ]
  },
  {
   "cell_type": "code",
   "execution_count": 6,
   "metadata": {},
   "outputs": [
    {
     "ename": "ModuleNotFoundError",
     "evalue": "No module named 'db_conexion'",
     "output_type": "error",
     "traceback": [
      "\u001b[1;31m---------------------------------------------------------------------------\u001b[0m",
      "\u001b[1;31mModuleNotFoundError\u001b[0m                       Traceback (most recent call last)",
      "Cell \u001b[1;32mIn[6], line 1\u001b[0m\n\u001b[1;32m----> 1\u001b[0m \u001b[38;5;28;01mfrom\u001b[39;00m \u001b[38;5;21;01mdb_conexion\u001b[39;00m \u001b[38;5;28;01mimport\u001b[39;00m establecer_conexion\n\u001b[0;32m      3\u001b[0m conn, cursor \u001b[38;5;241m=\u001b[39m establecer_conexion()\n\u001b[0;32m      5\u001b[0m \u001b[38;5;66;03m# Consulta SQL para seleccionar los datos\u001b[39;00m\n",
      "\u001b[1;31mModuleNotFoundError\u001b[0m: No module named 'db_conexion'"
     ]
    }
   ],
   "source": [
    "from db_conexion import establecer_conexion\n",
    "\n",
    "conn, cursor = establecer_conexion()\n",
    "\n",
    "# Consulta SQL para seleccionar los datos\n",
    "query = \"SELECT * FROM candidates\"\n",
    "\n",
    "# Leer los datos en un DataFrame de pandas\n",
    "df = pd.read_sql_query(query, conn)"
   ]
  }
 ],
 "metadata": {
  "kernelspec": {
   "display_name": "Python 3",
   "language": "python",
   "name": "python3"
  },
  "language_info": {
   "codemirror_mode": {
    "name": "ipython",
    "version": 3
   },
   "file_extension": ".py",
   "mimetype": "text/x-python",
   "name": "python",
   "nbconvert_exporter": "python",
   "pygments_lexer": "ipython3",
   "version": "3.11.5"
  }
 },
 "nbformat": 4,
 "nbformat_minor": 2
}
